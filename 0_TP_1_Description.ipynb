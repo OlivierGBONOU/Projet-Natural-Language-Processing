{
 "cells": [
  {
   "cell_type": "markdown",
   "metadata": {},
   "source": [
    "# 🐍 **TP 1 - Natural Language Processing (NLP) - AS3 2025** 🚀  \n",
    "### *École Nationale Supérieure de Statistique et d'Économie Appliquée*  \n",
    "\n",
    "---\n",
    "## 👨‍💻 Analyste Statisticien\n",
    "[![PortFolio](https://img.shields.io/badge/🌍%20Portfolio-Visiter-blue?style=for-the-badge)](https://sites.google.com/view/gbonou-olivier/accueil)\n",
    "\n",
    "<div align=\"center\">\n",
    "\n",
    "| **GBONOU Kossi Olivier Richard** |\n",
    "\n",
    "</div>  \n",
    "\n",
    "---"
   ]
  },
  {
   "cell_type": "markdown",
   "metadata": {},
   "source": [
    "## 📌 **Logique d'exécution du projet**  "
   ]
  },
  {
   "cell_type": "markdown",
   "metadata": {},
   "source": [
    "### 🔹 Étape 0 : Installer les dependances"
   ]
  },
  {
   "cell_type": "code",
   "execution_count": 2,
   "metadata": {},
   "outputs": [
    {
     "name": "stdout",
     "output_type": "stream",
     "text": [
      "Requirement already satisfied: spacy in c:\\users\\dell 3420\\appdata\\local\\programs\\python\\python311\\lib\\site-packages (from -r requirements.txt (line 1)) (3.8.4)\n",
      "Requirement already satisfied: nltk in c:\\users\\dell 3420\\appdata\\local\\programs\\python\\python311\\lib\\site-packages (from -r requirements.txt (line 2)) (3.9.1)\n",
      "Requirement already satisfied: textblob in c:\\users\\dell 3420\\appdata\\local\\programs\\python\\python311\\lib\\site-packages (from -r requirements.txt (line 3)) (0.19.0)\n",
      "Requirement already satisfied: langdetect in c:\\users\\dell 3420\\appdata\\local\\programs\\python\\python311\\lib\\site-packages (from -r requirements.txt (line 4)) (1.0.9)\n",
      "Requirement already satisfied: vaderSentiment in c:\\users\\dell 3420\\appdata\\local\\programs\\python\\python311\\lib\\site-packages (from -r requirements.txt (line 5)) (3.3.2)\n",
      "Requirement already satisfied: deep-translator in c:\\users\\dell 3420\\appdata\\local\\programs\\python\\python311\\lib\\site-packages (from -r requirements.txt (line 6)) (1.11.4)\n",
      "Requirement already satisfied: textblob_fr in c:\\users\\dell 3420\\appdata\\local\\programs\\python\\python311\\lib\\site-packages (from -r requirements.txt (line 7)) (0.2.0)\n",
      "Requirement already satisfied: pandas in c:\\users\\dell 3420\\appdata\\local\\programs\\python\\python311\\lib\\site-packages (from -r requirements.txt (line 8)) (2.2.3)\n",
      "Requirement already satisfied: numpy in c:\\users\\dell 3420\\appdata\\local\\programs\\python\\python311\\lib\\site-packages (from -r requirements.txt (line 9)) (1.26.4)\n",
      "Requirement already satisfied: scikit-learn in c:\\users\\dell 3420\\appdata\\local\\programs\\python\\python311\\lib\\site-packages (from -r requirements.txt (line 10)) (1.5.2)\n",
      "Requirement already satisfied: selenium in c:\\users\\dell 3420\\appdata\\local\\programs\\python\\python311\\lib\\site-packages (from -r requirements.txt (line 11)) (4.27.1)\n",
      "Requirement already satisfied: webdriver-manager in c:\\users\\dell 3420\\appdata\\local\\programs\\python\\python311\\lib\\site-packages (from -r requirements.txt (line 12)) (4.0.2)\n",
      "Requirement already satisfied: streamlit in c:\\users\\dell 3420\\appdata\\local\\programs\\python\\python311\\lib\\site-packages (from -r requirements.txt (line 13)) (1.40.1)\n",
      "Requirement already satisfied: plotly in c:\\users\\dell 3420\\appdata\\local\\programs\\python\\python311\\lib\\site-packages (from -r requirements.txt (line 14)) (5.15.0)\n",
      "Requirement already satisfied: Pillow in c:\\users\\dell 3420\\appdata\\local\\programs\\python\\python311\\lib\\site-packages (from -r requirements.txt (line 15)) (9.5.0)\n",
      "Requirement already satisfied: wordcloud in c:\\users\\dell 3420\\appdata\\local\\programs\\python\\python311\\lib\\site-packages (from -r requirements.txt (line 16)) (1.9.4)\n",
      "Requirement already satisfied: matplotlib in c:\\users\\dell 3420\\appdata\\local\\programs\\python\\python311\\lib\\site-packages (from -r requirements.txt (line 17)) (3.9.2)\n",
      "Requirement already satisfied: langid in c:\\users\\dell 3420\\appdata\\local\\programs\\python\\python311\\lib\\site-packages (from -r requirements.txt (line 18)) (1.1.6)\n",
      "Requirement already satisfied: spacy-legacy<3.1.0,>=3.0.11 in c:\\users\\dell 3420\\appdata\\local\\programs\\python\\python311\\lib\\site-packages (from spacy->-r requirements.txt (line 1)) (3.0.12)\n",
      "Requirement already satisfied: spacy-loggers<2.0.0,>=1.0.0 in c:\\users\\dell 3420\\appdata\\local\\programs\\python\\python311\\lib\\site-packages (from spacy->-r requirements.txt (line 1)) (1.0.5)\n",
      "Requirement already satisfied: murmurhash<1.1.0,>=0.28.0 in c:\\users\\dell 3420\\appdata\\local\\programs\\python\\python311\\lib\\site-packages (from spacy->-r requirements.txt (line 1)) (1.0.12)\n",
      "Requirement already satisfied: cymem<2.1.0,>=2.0.2 in c:\\users\\dell 3420\\appdata\\local\\programs\\python\\python311\\lib\\site-packages (from spacy->-r requirements.txt (line 1)) (2.0.11)\n",
      "Requirement already satisfied: preshed<3.1.0,>=3.0.2 in c:\\users\\dell 3420\\appdata\\local\\programs\\python\\python311\\lib\\site-packages (from spacy->-r requirements.txt (line 1)) (3.0.9)\n",
      "Requirement already satisfied: thinc<8.4.0,>=8.3.4 in c:\\users\\dell 3420\\appdata\\local\\programs\\python\\python311\\lib\\site-packages (from spacy->-r requirements.txt (line 1)) (8.3.4)\n",
      "Requirement already satisfied: wasabi<1.2.0,>=0.9.1 in c:\\users\\dell 3420\\appdata\\local\\programs\\python\\python311\\lib\\site-packages (from spacy->-r requirements.txt (line 1)) (1.1.3)\n",
      "Requirement already satisfied: srsly<3.0.0,>=2.4.3 in c:\\users\\dell 3420\\appdata\\local\\programs\\python\\python311\\lib\\site-packages (from spacy->-r requirements.txt (line 1)) (2.5.1)\n",
      "Requirement already satisfied: catalogue<2.1.0,>=2.0.6 in c:\\users\\dell 3420\\appdata\\local\\programs\\python\\python311\\lib\\site-packages (from spacy->-r requirements.txt (line 1)) (2.0.10)\n",
      "Requirement already satisfied: weasel<0.5.0,>=0.1.0 in c:\\users\\dell 3420\\appdata\\local\\programs\\python\\python311\\lib\\site-packages (from spacy->-r requirements.txt (line 1)) (0.4.1)\n",
      "Requirement already satisfied: typer<1.0.0,>=0.3.0 in c:\\users\\dell 3420\\appdata\\local\\programs\\python\\python311\\lib\\site-packages (from spacy->-r requirements.txt (line 1)) (0.15.1)\n",
      "Requirement already satisfied: tqdm<5.0.0,>=4.38.0 in c:\\users\\dell 3420\\appdata\\local\\programs\\python\\python311\\lib\\site-packages (from spacy->-r requirements.txt (line 1)) (4.66.1)\n",
      "Requirement already satisfied: requests<3.0.0,>=2.13.0 in c:\\users\\dell 3420\\appdata\\local\\programs\\python\\python311\\lib\\site-packages (from spacy->-r requirements.txt (line 1)) (2.32.3)\n",
      "Requirement already satisfied: pydantic!=1.8,!=1.8.1,<3.0.0,>=1.7.4 in c:\\users\\dell 3420\\appdata\\local\\programs\\python\\python311\\lib\\site-packages (from spacy->-r requirements.txt (line 1)) (2.11.7)\n",
      "Requirement already satisfied: jinja2 in c:\\users\\dell 3420\\appdata\\local\\programs\\python\\python311\\lib\\site-packages (from spacy->-r requirements.txt (line 1)) (3.1.5)\n",
      "Requirement already satisfied: setuptools in c:\\users\\dell 3420\\appdata\\local\\programs\\python\\python311\\lib\\site-packages (from spacy->-r requirements.txt (line 1)) (75.6.0)\n",
      "Requirement already satisfied: packaging>=20.0 in c:\\users\\dell 3420\\appdata\\local\\programs\\python\\python311\\lib\\site-packages (from spacy->-r requirements.txt (line 1)) (24.2)\n",
      "Requirement already satisfied: langcodes<4.0.0,>=3.2.0 in c:\\users\\dell 3420\\appdata\\local\\programs\\python\\python311\\lib\\site-packages (from spacy->-r requirements.txt (line 1)) (3.5.0)\n",
      "Requirement already satisfied: click in c:\\users\\dell 3420\\appdata\\local\\programs\\python\\python311\\lib\\site-packages (from nltk->-r requirements.txt (line 2)) (8.1.8)\n",
      "Requirement already satisfied: joblib in c:\\users\\dell 3420\\appdata\\local\\programs\\python\\python311\\lib\\site-packages (from nltk->-r requirements.txt (line 2)) (1.4.2)\n",
      "Requirement already satisfied: regex>=2021.8.3 in c:\\users\\dell 3420\\appdata\\local\\programs\\python\\python311\\lib\\site-packages (from nltk->-r requirements.txt (line 2)) (2024.11.6)\n",
      "Requirement already satisfied: six in c:\\users\\dell 3420\\appdata\\local\\programs\\python\\python311\\lib\\site-packages (from langdetect->-r requirements.txt (line 4)) (1.17.0)\n",
      "Requirement already satisfied: beautifulsoup4<5.0.0,>=4.9.1 in c:\\users\\dell 3420\\appdata\\local\\programs\\python\\python311\\lib\\site-packages (from deep-translator->-r requirements.txt (line 6)) (4.11.1)\n",
      "Requirement already satisfied: python-dateutil>=2.8.2 in c:\\users\\dell 3420\\appdata\\local\\programs\\python\\python311\\lib\\site-packages (from pandas->-r requirements.txt (line 8)) (2.9.0.post0)\n",
      "Requirement already satisfied: pytz>=2020.1 in c:\\users\\dell 3420\\appdata\\local\\programs\\python\\python311\\lib\\site-packages (from pandas->-r requirements.txt (line 8)) (2025.1)\n",
      "Requirement already satisfied: tzdata>=2022.7 in c:\\users\\dell 3420\\appdata\\local\\programs\\python\\python311\\lib\\site-packages (from pandas->-r requirements.txt (line 8)) (2024.1)\n",
      "Requirement already satisfied: scipy>=1.6.0 in c:\\users\\dell 3420\\appdata\\local\\programs\\python\\python311\\lib\\site-packages (from scikit-learn->-r requirements.txt (line 10)) (1.13.1)\n",
      "Requirement already satisfied: threadpoolctl>=3.1.0 in c:\\users\\dell 3420\\appdata\\local\\programs\\python\\python311\\lib\\site-packages (from scikit-learn->-r requirements.txt (line 10)) (3.5.0)\n",
      "Requirement already satisfied: urllib3<3,>=1.26 in c:\\users\\dell 3420\\appdata\\local\\programs\\python\\python311\\lib\\site-packages (from urllib3[socks]<3,>=1.26->selenium->-r requirements.txt (line 11)) (1.26.20)\n",
      "Requirement already satisfied: trio~=0.17 in c:\\users\\dell 3420\\appdata\\local\\programs\\python\\python311\\lib\\site-packages (from selenium->-r requirements.txt (line 11)) (0.29.0)\n",
      "Requirement already satisfied: trio-websocket~=0.9 in c:\\users\\dell 3420\\appdata\\local\\programs\\python\\python311\\lib\\site-packages (from selenium->-r requirements.txt (line 11)) (0.11.1)\n",
      "Requirement already satisfied: certifi>=2021.10.8 in c:\\users\\dell 3420\\appdata\\local\\programs\\python\\python311\\lib\\site-packages (from selenium->-r requirements.txt (line 11)) (2025.1.31)\n",
      "Requirement already satisfied: typing_extensions~=4.9 in c:\\users\\dell 3420\\appdata\\local\\programs\\python\\python311\\lib\\site-packages (from selenium->-r requirements.txt (line 11)) (4.12.2)\n",
      "Requirement already satisfied: websocket-client~=1.8 in c:\\users\\dell 3420\\appdata\\local\\programs\\python\\python311\\lib\\site-packages (from selenium->-r requirements.txt (line 11)) (1.8.0)\n",
      "Requirement already satisfied: python-dotenv in c:\\users\\dell 3420\\appdata\\local\\programs\\python\\python311\\lib\\site-packages (from webdriver-manager->-r requirements.txt (line 12)) (1.0.1)\n",
      "Requirement already satisfied: altair<6,>=4.0 in c:\\users\\dell 3420\\appdata\\local\\programs\\python\\python311\\lib\\site-packages (from streamlit->-r requirements.txt (line 13)) (5.0.1)\n",
      "Requirement already satisfied: blinker<2,>=1.0.0 in c:\\users\\dell 3420\\appdata\\local\\programs\\python\\python311\\lib\\site-packages (from streamlit->-r requirements.txt (line 13)) (1.9.0)\n",
      "Requirement already satisfied: cachetools<6,>=4.0 in c:\\users\\dell 3420\\appdata\\local\\programs\\python\\python311\\lib\\site-packages (from streamlit->-r requirements.txt (line 13)) (5.5.0)\n",
      "Requirement already satisfied: protobuf<6,>=3.20 in c:\\users\\dell 3420\\appdata\\local\\programs\\python\\python311\\lib\\site-packages (from streamlit->-r requirements.txt (line 13)) (4.25.6)\n",
      "Requirement already satisfied: pyarrow>=7.0 in c:\\users\\dell 3420\\appdata\\local\\programs\\python\\python311\\lib\\site-packages (from streamlit->-r requirements.txt (line 13)) (12.0.1)\n",
      "Requirement already satisfied: rich<14,>=10.14.0 in c:\\users\\dell 3420\\appdata\\local\\programs\\python\\python311\\lib\\site-packages (from streamlit->-r requirements.txt (line 13)) (13.4.2)\n",
      "Requirement already satisfied: tenacity<10,>=8.1.0 in c:\\users\\dell 3420\\appdata\\local\\programs\\python\\python311\\lib\\site-packages (from streamlit->-r requirements.txt (line 13)) (8.2.2)\n",
      "Requirement already satisfied: toml<2,>=0.10.1 in c:\\users\\dell 3420\\appdata\\local\\programs\\python\\python311\\lib\\site-packages (from streamlit->-r requirements.txt (line 13)) (0.10.2)\n",
      "Requirement already satisfied: gitpython!=3.1.19,<4,>=3.0.7 in c:\\users\\dell 3420\\appdata\\local\\programs\\python\\python311\\lib\\site-packages (from streamlit->-r requirements.txt (line 13)) (3.1.31)\n",
      "Requirement already satisfied: pydeck<1,>=0.8.0b4 in c:\\users\\dell 3420\\appdata\\local\\programs\\python\\python311\\lib\\site-packages (from streamlit->-r requirements.txt (line 13)) (0.8.1b0)\n",
      "Requirement already satisfied: tornado<7,>=6.0.3 in c:\\users\\dell 3420\\appdata\\local\\programs\\python\\python311\\lib\\site-packages (from streamlit->-r requirements.txt (line 13)) (6.3.2)\n",
      "Requirement already satisfied: watchdog<7,>=2.1.5 in c:\\users\\dell 3420\\appdata\\local\\programs\\python\\python311\\lib\\site-packages (from streamlit->-r requirements.txt (line 13)) (4.0.1)\n",
      "Requirement already satisfied: contourpy>=1.0.1 in c:\\users\\dell 3420\\appdata\\local\\programs\\python\\python311\\lib\\site-packages (from matplotlib->-r requirements.txt (line 17)) (1.2.1)\n",
      "Requirement already satisfied: cycler>=0.10 in c:\\users\\dell 3420\\appdata\\local\\programs\\python\\python311\\lib\\site-packages (from matplotlib->-r requirements.txt (line 17)) (0.12.1)\n",
      "Requirement already satisfied: fonttools>=4.22.0 in c:\\users\\dell 3420\\appdata\\local\\programs\\python\\python311\\lib\\site-packages (from matplotlib->-r requirements.txt (line 17)) (4.53.1)\n",
      "Requirement already satisfied: kiwisolver>=1.3.1 in c:\\users\\dell 3420\\appdata\\local\\programs\\python\\python311\\lib\\site-packages (from matplotlib->-r requirements.txt (line 17)) (1.4.5)\n",
      "Requirement already satisfied: pyparsing>=2.3.1 in c:\\users\\dell 3420\\appdata\\local\\programs\\python\\python311\\lib\\site-packages (from matplotlib->-r requirements.txt (line 17)) (3.2.1)\n",
      "Requirement already satisfied: jsonschema>=3.0 in c:\\users\\dell 3420\\appdata\\local\\programs\\python\\python311\\lib\\site-packages (from altair<6,>=4.0->streamlit->-r requirements.txt (line 13)) (4.18.0)\n",
      "Requirement already satisfied: toolz in c:\\users\\dell 3420\\appdata\\local\\programs\\python\\python311\\lib\\site-packages (from altair<6,>=4.0->streamlit->-r requirements.txt (line 13)) (0.12.0)\n",
      "Requirement already satisfied: soupsieve>1.2 in c:\\users\\dell 3420\\appdata\\local\\programs\\python\\python311\\lib\\site-packages (from beautifulsoup4<5.0.0,>=4.9.1->deep-translator->-r requirements.txt (line 6)) (2.3.2.post1)\n",
      "Requirement already satisfied: colorama in c:\\users\\dell 3420\\appdata\\local\\programs\\python\\python311\\lib\\site-packages (from click->nltk->-r requirements.txt (line 2)) (0.4.6)\n",
      "Requirement already satisfied: gitdb<5,>=4.0.1 in c:\\users\\dell 3420\\appdata\\local\\programs\\python\\python311\\lib\\site-packages (from gitpython!=3.1.19,<4,>=3.0.7->streamlit->-r requirements.txt (line 13)) (4.0.10)\n",
      "Requirement already satisfied: language-data>=1.2 in c:\\users\\dell 3420\\appdata\\local\\programs\\python\\python311\\lib\\site-packages (from langcodes<4.0.0,>=3.2.0->spacy->-r requirements.txt (line 1)) (1.3.0)\n",
      "Requirement already satisfied: annotated-types>=0.6.0 in c:\\users\\dell 3420\\appdata\\local\\programs\\python\\python311\\lib\\site-packages (from pydantic!=1.8,!=1.8.1,<3.0.0,>=1.7.4->spacy->-r requirements.txt (line 1)) (0.7.0)\n",
      "Requirement already satisfied: pydantic-core==2.33.2 in c:\\users\\dell 3420\\appdata\\local\\programs\\python\\python311\\lib\\site-packages (from pydantic!=1.8,!=1.8.1,<3.0.0,>=1.7.4->spacy->-r requirements.txt (line 1)) (2.33.2)\n",
      "Requirement already satisfied: typing-inspection>=0.4.0 in c:\\users\\dell 3420\\appdata\\local\\programs\\python\\python311\\lib\\site-packages (from pydantic!=1.8,!=1.8.1,<3.0.0,>=1.7.4->spacy->-r requirements.txt (line 1)) (0.4.1)\n",
      "Requirement already satisfied: MarkupSafe>=2.0 in c:\\users\\dell 3420\\appdata\\local\\programs\\python\\python311\\lib\\site-packages (from jinja2->spacy->-r requirements.txt (line 1)) (3.0.2)\n",
      "Requirement already satisfied: charset-normalizer<4,>=2 in c:\\users\\dell 3420\\appdata\\local\\programs\\python\\python311\\lib\\site-packages (from requests<3.0.0,>=2.13.0->spacy->-r requirements.txt (line 1)) (3.4.1)\n",
      "Requirement already satisfied: idna<4,>=2.5 in c:\\users\\dell 3420\\appdata\\local\\programs\\python\\python311\\lib\\site-packages (from requests<3.0.0,>=2.13.0->spacy->-r requirements.txt (line 1)) (3.10)\n",
      "Requirement already satisfied: markdown-it-py>=2.2.0 in c:\\users\\dell 3420\\appdata\\local\\programs\\python\\python311\\lib\\site-packages (from rich<14,>=10.14.0->streamlit->-r requirements.txt (line 13)) (3.0.0)\n",
      "Requirement already satisfied: pygments<3.0.0,>=2.13.0 in c:\\users\\dell 3420\\appdata\\local\\programs\\python\\python311\\lib\\site-packages (from rich<14,>=10.14.0->streamlit->-r requirements.txt (line 13)) (2.15.1)\n",
      "Requirement already satisfied: blis<1.3.0,>=1.2.0 in c:\\users\\dell 3420\\appdata\\local\\programs\\python\\python311\\lib\\site-packages (from thinc<8.4.0,>=8.3.4->spacy->-r requirements.txt (line 1)) (1.2.0)\n",
      "Requirement already satisfied: confection<1.0.0,>=0.0.1 in c:\\users\\dell 3420\\appdata\\local\\programs\\python\\python311\\lib\\site-packages (from thinc<8.4.0,>=8.3.4->spacy->-r requirements.txt (line 1)) (0.1.5)\n",
      "Requirement already satisfied: attrs>=23.2.0 in c:\\users\\dell 3420\\appdata\\local\\programs\\python\\python311\\lib\\site-packages (from trio~=0.17->selenium->-r requirements.txt (line 11)) (25.1.0)\n",
      "Requirement already satisfied: sortedcontainers in c:\\users\\dell 3420\\appdata\\local\\programs\\python\\python311\\lib\\site-packages (from trio~=0.17->selenium->-r requirements.txt (line 11)) (2.4.0)\n",
      "Requirement already satisfied: outcome in c:\\users\\dell 3420\\appdata\\local\\programs\\python\\python311\\lib\\site-packages (from trio~=0.17->selenium->-r requirements.txt (line 11)) (1.3.0.post0)\n",
      "Requirement already satisfied: sniffio>=1.3.0 in c:\\users\\dell 3420\\appdata\\local\\programs\\python\\python311\\lib\\site-packages (from trio~=0.17->selenium->-r requirements.txt (line 11)) (1.3.1)\n",
      "Requirement already satisfied: cffi>=1.14 in c:\\users\\dell 3420\\appdata\\local\\programs\\python\\python311\\lib\\site-packages (from trio~=0.17->selenium->-r requirements.txt (line 11)) (1.17.1)\n",
      "Requirement already satisfied: wsproto>=0.14 in c:\\users\\dell 3420\\appdata\\local\\programs\\python\\python311\\lib\\site-packages (from trio-websocket~=0.9->selenium->-r requirements.txt (line 11)) (1.2.0)\n",
      "Requirement already satisfied: shellingham>=1.3.0 in c:\\users\\dell 3420\\appdata\\local\\programs\\python\\python311\\lib\\site-packages (from typer<1.0.0,>=0.3.0->spacy->-r requirements.txt (line 1)) (1.5.4)\n",
      "Requirement already satisfied: PySocks!=1.5.7,<2.0,>=1.5.6 in c:\\users\\dell 3420\\appdata\\local\\programs\\python\\python311\\lib\\site-packages (from urllib3[socks]<3,>=1.26->selenium->-r requirements.txt (line 11)) (1.7.1)\n",
      "Requirement already satisfied: cloudpathlib<1.0.0,>=0.7.0 in c:\\users\\dell 3420\\appdata\\local\\programs\\python\\python311\\lib\\site-packages (from weasel<0.5.0,>=0.1.0->spacy->-r requirements.txt (line 1)) (0.20.0)\n",
      "Requirement already satisfied: smart-open<8.0.0,>=5.2.1 in c:\\users\\dell 3420\\appdata\\local\\programs\\python\\python311\\lib\\site-packages (from weasel<0.5.0,>=0.1.0->spacy->-r requirements.txt (line 1)) (7.1.0)\n",
      "Requirement already satisfied: pycparser in c:\\users\\dell 3420\\appdata\\local\\programs\\python\\python311\\lib\\site-packages (from cffi>=1.14->trio~=0.17->selenium->-r requirements.txt (line 11)) (2.22)\n",
      "Requirement already satisfied: smmap<6,>=3.0.1 in c:\\users\\dell 3420\\appdata\\local\\programs\\python\\python311\\lib\\site-packages (from gitdb<5,>=4.0.1->gitpython!=3.1.19,<4,>=3.0.7->streamlit->-r requirements.txt (line 13)) (5.0.0)\n",
      "Requirement already satisfied: jsonschema-specifications>=2023.03.6 in c:\\users\\dell 3420\\appdata\\local\\programs\\python\\python311\\lib\\site-packages (from jsonschema>=3.0->altair<6,>=4.0->streamlit->-r requirements.txt (line 13)) (2023.6.1)\n",
      "Requirement already satisfied: referencing>=0.28.4 in c:\\users\\dell 3420\\appdata\\local\\programs\\python\\python311\\lib\\site-packages (from jsonschema>=3.0->altair<6,>=4.0->streamlit->-r requirements.txt (line 13)) (0.29.1)\n",
      "Requirement already satisfied: rpds-py>=0.7.1 in c:\\users\\dell 3420\\appdata\\local\\programs\\python\\python311\\lib\\site-packages (from jsonschema>=3.0->altair<6,>=4.0->streamlit->-r requirements.txt (line 13)) (0.8.4)\n",
      "Requirement already satisfied: marisa-trie>=1.1.0 in c:\\users\\dell 3420\\appdata\\local\\programs\\python\\python311\\lib\\site-packages (from language-data>=1.2->langcodes<4.0.0,>=3.2.0->spacy->-r requirements.txt (line 1)) (1.2.1)\n",
      "Requirement already satisfied: mdurl~=0.1 in c:\\users\\dell 3420\\appdata\\local\\programs\\python\\python311\\lib\\site-packages (from markdown-it-py>=2.2.0->rich<14,>=10.14.0->streamlit->-r requirements.txt (line 13)) (0.1.2)\n",
      "Requirement already satisfied: wrapt in c:\\users\\dell 3420\\appdata\\local\\programs\\python\\python311\\lib\\site-packages (from smart-open<8.0.0,>=5.2.1->weasel<0.5.0,>=0.1.0->spacy->-r requirements.txt (line 1)) (1.17.2)\n",
      "Requirement already satisfied: h11<1,>=0.9.0 in c:\\users\\dell 3420\\appdata\\local\\programs\\python\\python311\\lib\\site-packages (from wsproto>=0.14->trio-websocket~=0.9->selenium->-r requirements.txt (line 11)) (0.14.0)\n",
      "Note: you may need to restart the kernel to use updated packages.\n"
     ]
    },
    {
     "name": "stderr",
     "output_type": "stream",
     "text": [
      "\n",
      "[notice] A new release of pip is available: 24.3.1 -> 25.2\n",
      "[notice] To update, run: python.exe -m pip install --upgrade pip\n"
     ]
    }
   ],
   "source": [
    "pip install -r requirements.txt"
   ]
  },
  {
   "cell_type": "markdown",
   "metadata": {},
   "source": [
    "### 🔹 Étape 1 : Extraction des données  \n",
    "📜 **Exécuter** : `1_python.py`  \n",
    "- Saisir le **nom de l'artiste** 🎤  \n",
    "- Indiquer le **lien vers la page** (⚠️ sans le dernier caractère du lien) 🔗  \n",
    "- Définir le **nombre de pages à scraper** 📄  \n",
    "🔽 **Résultat** : Génération d'une **base de données CSV** contenant les paroles des chansons et portant le nom de l'artiste."
   ]
  },
  {
   "cell_type": "markdown",
   "metadata": {},
   "source": [
    "### 🔹 Étape 2 : Traitement NLP et analyse des sentiments  \n",
    "📜 **Exécuter** : `2_nlp_tp_1.ipynb`  \n",
    "- Prétraitement des paroles de la base CSV 📝  \n",
    "- Attribution d’un **score de sentiment** à chaque titre 📊 \n",
    "🔽 **Résultat** : Génération d'une **base de données Excel** portant le nom de l'artiste + `sentiments`."
   ]
  },
  {
   "cell_type": "markdown",
   "metadata": {},
   "source": [
    "### 🔹 Étape 3 : Lancement de l’application Streamlit  \n",
    "📜 **Exécuter** : `3_app.py`  \n",
    "Lancer la commande suivante dans le terminal pour démarrer l'application :  \n",
    "```bash\n",
    "streamlit run 3_app.py"
   ]
  },
  {
   "cell_type": "code",
   "execution_count": 1,
   "metadata": {},
   "outputs": [],
   "source": [
    "import subprocess\n",
    "\n",
    "subprocess.run([\"streamlit\", \"run\", r\"3_app.py\"])"
   ]
  }
 ],
 "metadata": {
  "kernelspec": {
   "display_name": "Python 3",
   "language": "python",
   "name": "python3"
  },
  "language_info": {
   "codemirror_mode": {
    "name": "ipython",
    "version": 3
   },
   "file_extension": ".py",
   "mimetype": "text/x-python",
   "name": "python",
   "nbconvert_exporter": "python",
   "pygments_lexer": "ipython3",
   "version": "3.11.4"
  }
 },
 "nbformat": 4,
 "nbformat_minor": 2
}
