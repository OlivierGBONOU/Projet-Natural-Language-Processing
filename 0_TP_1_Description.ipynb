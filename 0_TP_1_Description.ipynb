{
 "cells": [
  {
   "cell_type": "markdown",
   "metadata": {},
   "source": [
    "# 🐍 **TP 1 - Natural Language Processing (NLP) - AS3 2025** 🚀  \n",
    "### *École Nationale Supérieure de Statistique et d'Économie Appliquée*  \n",
    "\n",
    "---\n",
    "## 👨‍💻 Analyste Statisticien\n",
    "[![PortFolio](https://img.shields.io/badge/🌍%20Portfolio-Visiter-blue?style=for-the-badge)](https://sites.google.com/view/gbonou-olivier/accueil)\n",
    "\n",
    "<div align=\"center\">\n",
    "\n",
    "| **GBONOU Kossi Olivier Richard** |\n",
    "|:------------------------------:|\n",
    "| ![Photo](./Photos/olivier.jpg) |\n",
    "\n",
    "</div>  \n",
    "\n",
    "---"
   ]
  },
  {
   "cell_type": "markdown",
   "metadata": {},
   "source": [
    "## 📌 **Logique d'exécution du projet**  "
   ]
  },
  {
   "cell_type": "markdown",
   "metadata": {},
   "source": [
    "### 🔹 Étape 1 : Extraction des données  \n",
    "📜 **Exécuter** : `1_python.py`  \n",
    "- Saisir le **nom de l'artiste** 🎤  \n",
    "- Indiquer le **lien vers la page** (⚠️ sans le dernier caractère du lien) 🔗  \n",
    "- Définir le **nombre de pages à scraper** 📄  \n",
    "🔽 **Résultat** : Génération d'une **base de données CSV** contenant les paroles des chansons et portant le nom de l'artiste."
   ]
  },
  {
   "cell_type": "markdown",
   "metadata": {},
   "source": [
    "### 🔹 Étape 2 : Traitement NLP et analyse des sentiments  \n",
    "📜 **Exécuter** : `2_nlp_tp_1.ipynb`  \n",
    "- Prétraitement des paroles de la base CSV 📝  \n",
    "- Attribution d’un **score de sentiment** à chaque titre 📊 \n",
    "🔽 **Résultat** : Génération d'une **base de données Excel** portant le nom de l'artiste + `sentiments`."
   ]
  },
  {
   "cell_type": "markdown",
   "metadata": {},
   "source": [
    "### 🔹 Étape 3 : Lancement de l’application Streamlit  \n",
    "📜 **Exécuter** : `3_app.py`  \n",
    "Lancer la commande suivante dans le terminal pour démarrer l'application :  \n",
    "```bash\n",
    "streamlit run 3_app.py"
   ]
  },
  {
   "cell_type": "code",
   "execution_count": 1,
   "metadata": {},
   "outputs": [],
   "source": [
    "import subprocess\n",
    "\n",
    "subprocess.run([\"streamlit\", \"run\", r\"3_app.py\"])"
   ]
  }
 ],
 "metadata": {
  "kernelspec": {
   "display_name": "Python 3",
   "language": "python",
   "name": "python3"
  },
  "language_info": {
   "codemirror_mode": {
    "name": "ipython",
    "version": 3
   },
   "file_extension": ".py",
   "mimetype": "text/x-python",
   "name": "python",
   "nbconvert_exporter": "python",
   "pygments_lexer": "ipython3",
   "version": "3.11.4"
  }
 },
 "nbformat": 4,
 "nbformat_minor": 2
}
